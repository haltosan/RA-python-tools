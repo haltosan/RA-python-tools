{
 "cells": [
  {
   "cell_type": "markdown",
   "metadata": {},
   "source": [
    "# Multi-Line NLP"
   ]
  },
  {
   "cell_type": "markdown",
   "metadata": {},
   "source": [
    "## Intro / When to Use"
   ]
  },
  {
   "cell_type": "markdown",
   "metadata": {},
   "source": [
    "This code uses an alternate method of doing NLP. It's useful when the page layout has separate columns of information (ex. student name, home city, address) that are hard to separate in a regular expression if combined on one line.\n",
    "\n",
    "You use an OCR option that outputs each column entry on its own line -- so unlike the regular notebook, you want it to look like this:\n",
    "\n",
    "    John Doe\n",
    "    New York City\n",
    "    21 Main Street\n",
    "\n",
    "Option 12 has worked well in the past, but another might be better for a specific source.\n",
    "\n",
    "Once you have OCR in that format, you can write a regex that uses newlines to keep the information separate. On one line, it would be difficult to separate the name and home city (\"John Doe New York City\" -- when does the name stop and the city start?), but the newline gives a definitive break between the two pieces of information.\n",
    "\n",
    "The newline character can be included as a character using '\\n'. Another useful trick is putting '^' at the beginning of your expression, which will match to the beginning of a line. '$' matches to the end. (If you're trying this outside this program, make sure to use the re.MULTILINE flag, otherwise it will match to the beginning and end of the entire string.)\n",
    "\n",
    "regex101.com is a useful website for trying out regular expressions (personally, I like it more than Pythex).\n",
    " "
   ]
  },
  {
   "cell_type": "markdown",
   "metadata": {},
   "source": [
    "## How to Use This Notebook"
   ]
  },
  {
   "cell_type": "markdown",
   "metadata": {},
   "source": [
    "After you've written a multi-line regular expression, there are a few more things you have to change for this notebook to work (unfortunately...if anybody can improve it, go for it).\n",
    "\n",
    "All the places to change are marked with comments in all caps. Feel free to make a copy of the notebook and adapt the code that's there to suit the source. Here's an overview, and it will probably make more sense once you see the code:\n",
    "\n",
    "In [5]:\n",
    "    1. Paste in regular expression\n",
    "    2. Change the name to your school (the name of the school's folder)\n",
    "In [7]:\n",
    "    3. Replace the column names in the code with the columns you want in the spreadsheet\n",
    "    4. Make a variable for each column, and set it either to a named capturing group in your regex, or a hardcoded value (if         it's the same for every row, like school or Chetty tier)\n",
    "    5. Replace my variables with your variables, in the same order you put the columns in step 3\n",
    "   "
   ]
  },
  {
   "cell_type": "markdown",
   "metadata": {},
   "source": [
    "# Imports"
   ]
  },
  {
   "cell_type": "code",
   "execution_count": 1,
   "metadata": {},
   "outputs": [],
   "source": [
    "import os\n",
    "import re\n",
    "import csv\n",
    "import sys\n",
    "# import unicodedata\n",
    "# from unidecode import unidecode"
   ]
  },
  {
   "cell_type": "markdown",
   "metadata": {},
   "source": [
    "### Reads all lines instead of splicing them apart"
   ]
  },
  {
   "cell_type": "code",
   "execution_count": 2,
   "metadata": {},
   "outputs": [],
   "source": [
    "def pre_process(fname):\n",
    "    with open(fname, encoding='utf-8') as fin:\n",
    "        lines = fin.read()\n",
    "    return lines"
   ]
  },
  {
   "cell_type": "markdown",
   "metadata": {},
   "source": [
    "# Function that makes lists of people"
   ]
  },
  {
   "cell_type": "code",
   "execution_count": 3,
   "metadata": {},
   "outputs": [],
   "source": [
    "def collect(text):\n",
    "    \"\"\"Collects all names and returns a formatted list of matches from text<str>.\"\"\"  \n",
    "    if type(text) is not str:\n",
    "        raise NotImplementedError\n",
    "\n",
    "    # This loop looks through lines (from above) and appends each match to a list, formatted the way we want\n",
    "    raw_matches = []\n",
    "    non_matches = []\n",
    "    \n",
    "    # Find all matches in the text and put it in a list\n",
    "    # raw_matches = people_re.findall(text, re.MULTILINE)\n",
    "    \n",
    "    for match in people_re.finditer(text, re.MULTILINE):\n",
    "        raw_matches.append(match)\n",
    "    \n",
    "    # Add everything that isn't in a match to non_matches (make substrings from the gaps in-between matches)\n",
    "    prev_end_index = 0\n",
    "    length = len(raw_matches)\n",
    "    for i in range(length):\n",
    "        currentMatch = raw_matches[i]\n",
    "        \n",
    "        # Get start and end values\n",
    "        matchSpan = currentMatch.span()\n",
    "        start = matchSpan[0]\n",
    "        end = matchSpan[1]\n",
    "        \n",
    "        non_matches.append(text[prev_end_index:start])\n",
    "        prev_end_index = end\n",
    "    # add last bit (last match to end of string)\n",
    "    non_matches.append(text[prev_end_index:-1])\n",
    "    \n",
    "    \n",
    "    return raw_matches, non_matches\n"
   ]
  },
  {
   "cell_type": "markdown",
   "metadata": {},
   "source": [
    "# Define the regex and which school to search\n",
    "Go to https://regex101.com/ to test your regex."
   ]
  },
  {
   "cell_type": "code",
   "execution_count": 4,
   "metadata": {
    "scrolled": true
   },
   "outputs": [],
   "source": [
    "# PUT REGULAR EXPRESSION HERE, (1/5)\n",
    "people_re = re.compile(r'(^(?P<studentName>[a-zA-Z -]+(, Jr.)?)\\n\\n(?P<city>[a-zA-Z./ ]+)(, (?P<state>[a-zA-Z./ ]+))?)', flags=re.MULTILINE)\n",
    "\n",
    "# PUT NAME OF SCHOOL HERE (aka the name of the folder), (2/5)\n",
    "source = \"YaleNew\"\n",
    "\n",
    "# Name of the csv file to write to\n",
    "target = f\"NLP_Output_{source}.csv\"\n",
    "\n",
    "# This is where the non-matched lines will be written\n",
    "chk_file = 'check.csv'\n",
    "\n",
    "os.chdir(r'..\\output\\University CSVs\\{}'.format(source))"
   ]
  },
  {
   "cell_type": "markdown",
   "metadata": {},
   "source": [
    "# Run this just to make sure that if you rerun the code,\n",
    "# it makes a new file instead of appending"
   ]
  },
  {
   "cell_type": "code",
   "execution_count": 5,
   "metadata": {},
   "outputs": [],
   "source": [
    "# Update target file name so that we aren't appending to an existing file\n",
    "    \n",
    "if os.path.exists(target):\n",
    "    i = 1\n",
    "    name, ext = target.split('.')\n",
    "    while os.path.exists(f'{name}_{i}.{ext}'):\n",
    "        i += 1\n",
    "    target = f'{name}_{i}.{ext}'\n",
    "\n",
    "if os.path.exists(chk_file):\n",
    "    i = 1\n",
    "    name, ext = chk_file.split('.')\n",
    "    while os.path.exists(f'{name}_{i}.{ext}'):\n",
    "        i += 1\n",
    "    chk_file = f'{name}_{i}.{ext}'"
   ]
  },
  {
   "cell_type": "markdown",
   "metadata": {},
   "source": [
    "# Main function -- create rows and variables for each row, then output\n",
    "If you interrupt this cell or the previous one and the next run gives an OS error, restart the kernel and then try again."
   ]
  },
  {
   "cell_type": "code",
   "execution_count": 6,
   "metadata": {
    "scrolled": true
   },
   "outputs": [
    {
     "name": "stdout",
     "output_type": "stream",
     "text": [
      "finding names in 1_Yale_1923_Seniors_1923.txt...\n",
      "found 288 names. Writing to file NLP_Output_YaleNew_29.csv...\n",
      "finding names in 2_Yale_1923_Juniors_1924.txt...\n",
      "found 290 names. Writing to file NLP_Output_YaleNew_29.csv...\n",
      "finding names in 3_Yale_1923_Sophomores_1925.txt...\n",
      "found 450 names. Writing to file NLP_Output_YaleNew_29.csv...\n"
     ]
    }
   ],
   "source": [
    "os.chdir(r'..\\..\\University Text Files\\{}'.format(source))\n",
    "\n",
    "\n",
    "for txt in [i for i in os.listdir() if i[-4:] == '.txt']:\n",
    "    # This is where the work happens. Uses the collect() function.\n",
    "    print(f'finding names in {txt}...')\n",
    "    \n",
    "    result, check = collect(pre_process(txt))\n",
    "    num = len(result)\n",
    "    print(f'found {num} names. Writing to file {target}...')\n",
    "    os.chdir(r'..\\..\\University CSVs\\{}'.format(source))\n",
    "\n",
    "    # Write matches to the target file (.csv)\n",
    "    \n",
    "    with open(target, 'a', newline='', encoding='utf-8-sig') as fout:\n",
    "        writer = csv.writer(fout)\n",
    "        # CHANGE ROWS HERE TO MATCH YOUR EXPRESSION AND WHATEVER STUFF YOU WANT TO ADD, (3/5)\n",
    "        writer.writerow(['Name', 'City' , 'State', 'Standing', 'Year', 'School', 'School_State', 'Chetty_Tier'])\n",
    "        \n",
    "\n",
    "        # Output each match in a row\n",
    "        for match in result:\n",
    "            # USE THIS SYNTAX TO MAKE VARIABLES FOR YOUR NAMED GROUPS/SET THE OUTPUT FOR OTHER COLUMNS, (4/5)\n",
    "            # variable_name = match.group('namedGroupInExpression')\n",
    "            name = match.group('studentName')\n",
    "            city = match.group('city')\n",
    "            state = match.group('state')\n",
    "            # hardcode stuff in if you don't want to add the columns later\n",
    "            standing = 'Senior'\n",
    "            year = '1923'\n",
    "            school = 'Yale University'\n",
    "            school_state = 'Connecticut'\n",
    "            chetty_tier = '1'\n",
    "            \n",
    "            # PUT VARIABLE NAMES IN ORDER HERE TO OUTPUT THEM IN A ROW (5/5)\n",
    "            writer.writerow([name, city, state, standing, year, school, school_state, chetty_tier])\n",
    "            \n",
    "\n",
    "        # Total names found that year\n",
    "        writer.writerow(['Names found:', num])\n",
    "\n",
    "    # Write non-matches to the check file\n",
    "    with open(chk_file, 'a', newline='', encoding='utf-8-sig') as fout:\n",
    "        writer = csv.writer(fout)\n",
    "        for i in check:\n",
    "            try:\n",
    "                for line in i.split('\\n'):\n",
    "                    writer.writerow([line])\n",
    "            except UnicodeEncodeError as e:\n",
    "                writer.writerow([e])\n",
    "\n",
    "    os.chdir(r'..\\..\\University Text Files\\{}'.format(source))"
   ]
  },
  {
   "cell_type": "code",
   "execution_count": null,
   "metadata": {},
   "outputs": [],
   "source": []
  }
 ],
 "metadata": {
  "kernelspec": {
   "display_name": "Python 3",
   "language": "python",
   "name": "python3"
  },
  "language_info": {
   "codemirror_mode": {
    "name": "ipython",
    "version": 3
   },
   "file_extension": ".py",
   "mimetype": "text/x-python",
   "name": "python",
   "nbconvert_exporter": "python",
   "pygments_lexer": "ipython3",
   "version": "3.7.4"
  }
 },
 "nbformat": 4,
 "nbformat_minor": 4
}
